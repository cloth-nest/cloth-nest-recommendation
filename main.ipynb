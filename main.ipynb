{
 "cells": [
  {
   "cell_type": "code",
   "execution_count": null,
   "metadata": {},
   "outputs": [],
   "source": [
    "import pickle\n",
    "\n",
    "from consts import PRODUCTS_FEATURES_CATALOG_FILE, PRODUCTS_INFO_CATALOG_FILE\n",
    "\n",
    "\n",
    "products_info_catalog = pickle.load(open(PRODUCTS_INFO_CATALOG_FILE, \"rb\"))\n",
    "products_features_catalog = pickle.load(open(PRODUCTS_FEATURES_CATALOG_FILE, \"rb\"))\n",
    "\n",
    "print(f\"products_info_catalog: {products_info_catalog}\")\n",
    "print(f\"products_features_catalog: {products_features_catalog}\")"
   ]
  },
  {
   "cell_type": "code",
   "execution_count": null,
   "metadata": {},
   "outputs": [],
   "source": [
    "import requests\n",
    "import json\n",
    "\n",
    "\n",
    "# URL to send the request to\n",
    "url = \"http://127.0.0.1:5000/product/recommend/catalog\"\n",
    "\n",
    "# Load JSON data from a local file\n",
    "with open(\"mock_products.json\", \"r\") as file:\n",
    "    local_json_data = json.load(file)\n",
    "\n",
    "print(local_json_data)\n",
    "# Send a POST request with JSON data\n",
    "response = requests.post(url, json=local_json_data)\n",
    "\n",
    "# Check the status code of the response\n",
    "if response.status_code == 200:\n",
    "    # Successful request, print the response content\n",
    "    print(response.json())\n",
    "else:\n",
    "    # Print an error message\n",
    "    print(f\"Error: {response.status_code}\")"
   ]
  }
 ],
 "metadata": {
  "kernelspec": {
   "display_name": "cloth-nest-recommendation",
   "language": "python",
   "name": "python3"
  },
  "language_info": {
   "codemirror_mode": {
    "name": "ipython",
    "version": 3
   },
   "file_extension": ".py",
   "mimetype": "text/x-python",
   "name": "python",
   "nbconvert_exporter": "python",
   "pygments_lexer": "ipython3",
   "version": "3.10.13"
  }
 },
 "nbformat": 4,
 "nbformat_minor": 2
}
